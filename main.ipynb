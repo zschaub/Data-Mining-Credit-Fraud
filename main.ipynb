{
 "cells": [
  {
   "cell_type": "markdown",
   "metadata": {},
   "source": [
    "# Credit Card Fraud: Data Mining Final Project\n",
    "### By: Brain Zschau"
   ]
  },
  {
   "cell_type": "markdown",
   "metadata": {},
   "source": [
    "The dataset we will be using can be found here: [https://www.kaggle.com/datasets/mlg-ulb/creditcardfraud](https://www.kaggle.com/datasets/mlg-ulb/creditcardfraud)\n",
    "\n",
    "You can either download it manually and put the csv file into the folder datasets or set your kaggle username and kaggle key below and the dataset will be downloaded and extracted for you."
   ]
  },
  {
   "cell_type": "code",
   "execution_count": 3,
   "metadata": {},
   "outputs": [
    {
     "name": "stdout",
     "output_type": "stream",
     "text": [
      "Contents of datasets: ['creditcard.csv', 'creditcardfraud.zip']\n"
     ]
    }
   ],
   "source": [
    "import os\n",
    "from pathlib import Path\n",
    "import zipfile\n",
    "\n",
    "# Set your Kaggle API credentials (replace 'your_username' and 'your_key' with your actual Kaggle username and key)\n",
    "os.environ['KAGGLE_USERNAME'] = 'your_username'\n",
    "os.environ['KAGGLE_KEY'] = 'your_key'\n",
    "\n",
    "# Specify the dataset you want to download\n",
    "dataset_name = 'mlg-ulb/creditcardfraud'\n",
    "\n",
    "# Specify the destination directory\n",
    "destination_dir = Path('.') / 'datasets'\n",
    "\n",
    "# Create the destination directory if it does not exist\n",
    "destination_dir.mkdir(parents=True, exist_ok=True)\n",
    "\n",
    "# Check if the file exists; if not, download it\n",
    "zip_file_path = destination_dir / f'{dataset_name.split(\"/\")[1]}.zip'\n",
    "if not zip_file_path.is_file():\n",
    "    # Download the dataset\n",
    "    os.system(f'kaggle datasets download -d {dataset_name} -p {destination_dir}')\n",
    "\n",
    "    # Extract the contents of the zip file\n",
    "    with zipfile.ZipFile(zip_file_path, 'r') as zip_ref:\n",
    "        zip_ref.extractall(destination_dir)\n",
    "\n",
    "# List the contents of the destination directory\n",
    "print(f\"Contents of {destination_dir}: {os.listdir(destination_dir)}\")"
   ]
  }
 ],
 "metadata": {
  "kernelspec": {
   "display_name": "Python 3",
   "language": "python",
   "name": "python3"
  },
  "language_info": {
   "codemirror_mode": {
    "name": "ipython",
    "version": 3
   },
   "file_extension": ".py",
   "mimetype": "text/x-python",
   "name": "python",
   "nbconvert_exporter": "python",
   "pygments_lexer": "ipython3",
   "version": "3.12.0"
  },
  "orig_nbformat": 4
 },
 "nbformat": 4,
 "nbformat_minor": 2
}
